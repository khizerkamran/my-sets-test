{
 "cells": [
  {
   "cell_type": "code",
   "execution_count": 4,
   "metadata": {},
   "outputs": [
    {
     "name": "stdout",
     "output_type": "stream",
     "text": [
      "{'yellow', 'book', 'car', 'blue', 'green'}\n",
      "{'tesla', 'gtx', 'lamborghini', 'audi', 'ferrari'}\n",
      "{'unais', 'hamna', 'khizer', 'hassan', 'rehman'}\n"
     ]
    }
   ],
   "source": [
    "# i create a set\n",
    "a=set(['yellow','car','book','green','blue'])\n",
    "print(a)\n",
    "b=set(['ferrari','lamborghini','gtx','audi','tesla'])\n",
    "print(b)\n",
    "c=set(['unais','hassan','hamna','khizer','rehman'])\n",
    "print(c)"
   ]
  },
  {
   "cell_type": "code",
   "execution_count": 9,
   "metadata": {},
   "outputs": [
    {
     "name": "stdout",
     "output_type": "stream",
     "text": [
      "{'blue'}\n"
     ]
    }
   ],
   "source": [
    "# i do intersection in the set\n",
    "a=set(['yellow','car','book','green','blue','gxy'])\n",
    "print(b.intersection(a))\n",
    "b=set(['ferrari','lamborghini','gtx','audi','tesla','blue'])"
   ]
  },
  {
   "cell_type": "code",
   "execution_count": 11,
   "metadata": {},
   "outputs": [
    {
     "name": "stdout",
     "output_type": "stream",
     "text": [
      "{'tesla', 'gtx', 'lamborghini', 'audi', 'ferrari'}\n",
      "{'yellow', 'book', 'gxy', 'car', 'green'}\n"
     ]
    }
   ],
   "source": [
    "# i check out difference in the set\n",
    "a=set(['yellow','car','book','green','blue','gxy'])\n",
    "print(b.difference(a))\n",
    "print(a.difference(b))\n",
    "b=set(['ferrari','lamborghini','gtx','audi','tesla','blue'])"
   ]
  },
  {
   "cell_type": "code",
   "execution_count": 12,
   "metadata": {},
   "outputs": [
    {
     "name": "stdout",
     "output_type": "stream",
     "text": [
      "{'tesla', 'lamborghini', 'green', 'ferrari', 'yellow', 'gtx', 'book', 'gxy', 'car', 'audi'}\n",
      "{'tesla', 'lamborghini', 'green', 'ferrari', 'yellow', 'gtx', 'book', 'gxy', 'car', 'audi'}\n"
     ]
    }
   ],
   "source": [
    "# i check out symmetric difference in the set\n",
    "a=set(['yellow','car','book','green','blue','gxy'])\n",
    "print(b.symmetric_difference(a))\n",
    "print(a.symmetric_difference(b))\n",
    "b=set(['ferrari','lamborghini','gtx','audi','tesla','blue'])"
   ]
  },
  {
   "cell_type": "code",
   "execution_count": 14,
   "metadata": {},
   "outputs": [
    {
     "name": "stdout",
     "output_type": "stream",
     "text": [
      "{'tesla', 'yellow', 'gtx', 'book', 'lamborghini', 'gxy', 'car', 'audi', 'blue', 'green', 'ferrari'}\n",
      "{'tesla', 'yellow', 'gtx', 'book', 'gxy', 'lamborghini', 'car', 'blue', 'audi', 'green', 'ferrari'}\n"
     ]
    }
   ],
   "source": [
    "# i check the union\n",
    "a=set(['yellow','car','book','green','blue','gxy'])\n",
    "print(b.union(a))\n",
    "print(a.union(b))\n",
    "b=set(['ferrari','lamborghini','gtx','audi','tesla','blue'])"
   ]
  },
  {
   "cell_type": "code",
   "execution_count": 18,
   "metadata": {},
   "outputs": [
    {
     "name": "stdout",
     "output_type": "stream",
     "text": [
      "{'tesla', 'gtx', 'lamborghini', 'audi', 'blue', 'ferrari', 'cultus'}\n",
      "{'yellow', 'book', 'gxy', 'ahmed', 'car', 'blue', 'green'}\n"
     ]
    }
   ],
   "source": [
    "# i add cultus and ahmed in the set\n",
    "a=set(['yellow','car','book','green','blue','gxy'])\n",
    "b.add('cultus')\n",
    "print(b)\n",
    "a.add('ahmed')\n",
    "print(a)\n",
    "b=set(['ferrari','lamborghini','gtx','audi','tesla','blue'])"
   ]
  },
  {
   "cell_type": "code",
   "execution_count": 21,
   "metadata": {},
   "outputs": [
    {
     "name": "stdout",
     "output_type": "stream",
     "text": [
      "{'yellow', 'book', 'gxy', 'blue', 'green'}\n",
      "{'tesla', 'lamborghini', 'audi', 'blue', 'ferrari'}\n"
     ]
    }
   ],
   "source": [
    "# i removed car and gtx from the set\n",
    "a=set(['yellow','car','book','green','blue','gxy'])\n",
    "b=set(['ferrari','lamborghini','gtx','audi','tesla','blue'])\n",
    "a.remove('car')\n",
    "print(a)\n",
    "b.remove('gtx')\n",
    "print(b)\n"
   ]
  },
  {
   "cell_type": "code",
   "execution_count": null,
   "metadata": {},
   "outputs": [],
   "source": []
  }
 ],
 "metadata": {
  "kernelspec": {
   "display_name": "Python 3",
   "language": "python",
   "name": "python3"
  },
  "language_info": {
   "codemirror_mode": {
    "name": "ipython",
    "version": 3
   },
   "file_extension": ".py",
   "mimetype": "text/x-python",
   "name": "python",
   "nbconvert_exporter": "python",
   "pygments_lexer": "ipython3",
   "version": "3.8.6"
  }
 },
 "nbformat": 4,
 "nbformat_minor": 4
}
